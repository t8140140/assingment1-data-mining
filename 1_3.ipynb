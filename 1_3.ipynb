{
 "cells": [
  {
   "cell_type": "code",
   "execution_count": 1,
   "metadata": {},
   "outputs": [],
   "source": [
    "import numpy as np\n",
    "from sklearn.model_selection import KFold\n",
    "import random    \n",
    "import pandas as pd\n",
    "from sklearn import linear_model\n",
    "from sklearn.metrics import mean_squared_error\n",
    "from sklearn.metrics import mean_absolute_error\n",
    "from math import sqrt\n",
    "\n",
    "learning_rate = 0.0005\n",
    "num_of_iterations = 75\n",
    "reguralization_factor = 0.05\n",
    "num_of_factors = 10"
   ]
  },
  {
   "cell_type": "code",
   "execution_count": 2,
   "metadata": {},
   "outputs": [],
   "source": [
    "ratings_table = pd.read_csv(filepath_or_buffer='./ml-1m/ratings.dat',\n",
    "                            sep='::', delimiter=None, header=0, names=['user_id', 'movie_id', 'rating', 'timestamp'] ,engine='python')"
   ]
  },
  {
   "cell_type": "code",
   "execution_count": 3,
   "metadata": {},
   "outputs": [],
   "source": [
    "from cmath import isnan\n",
    "\n",
    "def create_matrices(ratings):\n",
    "    \n",
    "    user_ids = ratings['user_id'].unique().tolist()\n",
    "    movie_ids = ratings['movie_id'].unique().tolist()\n",
    "\n",
    "    num_users = len(user_ids)\n",
    "    num_movies = len(movie_ids)\n",
    "\n",
    "    idx_user = range(num_users)\n",
    "    idx_movie = range(num_movies)\n",
    "\n",
    "    mapping_user = dict(zip(user_ids, idx_user))\n",
    "    mapping_movie = dict(zip(movie_ids, idx_movie))\n",
    "    \n",
    "    X = np.array(ratings.pivot(index='user_id',columns='movie_id', values='rating'))\n",
    "    U = np.random.uniform(-0.01, 0.01, (num_users, num_of_factors))\n",
    "    M = np.random.uniform(-0.01, 0.01, (num_of_factors, num_movies))\n",
    "\n",
    "    return [X, U, M, mapping_user, mapping_movie]\n"
   ]
  },
  {
   "cell_type": "code",
   "execution_count": 4,
   "metadata": {},
   "outputs": [],
   "source": [
    "def partial_der_reg(error, element):\n",
    "    deriv_reg = 2*error - reguralization_factor*element\n",
    "    return deriv_reg\n",
    "\n",
    "\n",
    "def calculate_predictions(X, U, M):\n",
    "    previous_rmse = 100000\n",
    "\n",
    "    for _ in range(num_of_iterations):\n",
    "        total_errors = []\n",
    "        for i, xi in enumerate(X):\n",
    "            for j, xj in enumerate(X[i]):\n",
    "\n",
    "                if isnan(X[i, j]):\n",
    "                    continue\n",
    "\n",
    "                pred_xij = np.dot(U[i, :], M[:, j])\n",
    "\n",
    "                error_xij = X[i, j] - pred_xij\n",
    "\n",
    "                total_errors.append(error_xij)\n",
    "\n",
    "                for k in range(num_of_factors):\n",
    "                    Uik = U[i, k] + learning_rate * \\\n",
    "                        (partial_der_reg(error_xij, M[k, j]))\n",
    "\n",
    "                    Mkj = M[k, j] + learning_rate * \\\n",
    "                        (partial_der_reg(error_xij, U[i, k]))\n",
    "\n",
    "                    U[i, k] = Uik\n",
    "                    M[k, j] = Mkj\n",
    "    \n",
    "        rmse = np.sqrt(np.sum(np.array(total_errors)**2))/len(total_errors)\n",
    "        if rmse == previous_rmse:\n",
    "            break\n",
    "\n",
    "        previous_rmse = rmse\n",
    "\n",
    "    return [U, M]\n"
   ]
  },
  {
   "cell_type": "code",
   "execution_count": 5,
   "metadata": {},
   "outputs": [],
   "source": [
    "def calculate_rmse(predictions, actual):\n",
    "    total_errors = []\n",
    "    for i in range(len(actual)):\n",
    "        for j in range(len(actual[i])):\n",
    "            if not isnan(actual[i][j]):\n",
    "                error = predictions[i][j] - actual[i][j]\n",
    "                total_errors.append(error)\n",
    "                \n",
    "    return np.sqrt(np.sum(np.array(total_errors)**2))/len(total_errors)"
   ]
  },
  {
   "cell_type": "code",
   "execution_count": 6,
   "metadata": {},
   "outputs": [],
   "source": [
    "def calculate_rmse_test(predictions, actual, user_train_mapping, movie_train_mapping, user_test_mapping, movie_test_mapping):\n",
    "    total_errors = []\n",
    "    for u_id, u_index in user_test_mapping.items():\n",
    "      for m_id, m_index in movie_test_mapping.items():\n",
    "            if u_id in user_train_mapping and m_id in movie_train_mapping:\n",
    "                if not isnan(actual[u_index][m_index]):\n",
    "                    error = predictions[user_train_mapping[u_id]][movie_train_mapping[m_id]] - actual[u_index][m_index]\n",
    "                    total_errors.append(error)\n",
    "\n",
    "    return np.sqrt(np.sum(np.array(total_errors)**2))/len(total_errors)"
   ]
  },
  {
   "cell_type": "code",
   "execution_count": 7,
   "metadata": {},
   "outputs": [],
   "source": [
    "def post_process_data(Users, Movies):\n",
    "    predictions = np.matmul(Users, Movies)\n",
    "    \n",
    "    predictions[predictions > 5] = 5\n",
    "    predictions[predictions < 1] = 1\n",
    "     \n",
    "    return predictions"
   ]
  },
  {
   "cell_type": "code",
   "execution_count": 8,
   "metadata": {},
   "outputs": [],
   "source": [
    "def k_fold_matrix_factorization(data, learning_rate, iterations, regularization, num_factors):\n",
    "    kf = KFold(n_splits=5, shuffle=True, random_state=42)\n",
    "\n",
    "    rmse_train_total = []\n",
    "    rmse_test_total = []\n",
    "    previous_test_rmse = 10000\n",
    "\n",
    "    for train_index, test_index in kf.split(data):\n",
    "        train_data = data.iloc[train_index]\n",
    "        test_data = data.iloc[test_index]\n",
    "        \n",
    "        X_train, U_train, M_train, user_train_mapping, movie_train_mapping = create_matrices(train_data)\n",
    "        \n",
    "        X_test, U_test, M_test, user_test_mapping, movie_test_mapping = create_matrices(test_data)\n",
    "\n",
    "        U_predicted, M_predicted = calculate_predictions(\n",
    "            X_train, U_train, M_train)\n",
    "\n",
    "        P_predicted = post_process_data(U_predicted, M_predicted)\n",
    "\n",
    "        rmse_train = calculate_rmse(P_predicted, X_train)\n",
    "        rmse_test = calculate_rmse_test(P_predicted, X_test, user_train_mapping, movie_train_mapping, user_test_mapping, movie_test_mapping)\n",
    "\n",
    "        if rmse_test < previous_test_rmse:\n",
    "            previous_test_rmse = rmse_test\n",
    "            U_best, M_best = U_predicted, M_predicted\n",
    "            user_train_mapping_best, movie_train_mapping_best = user_train_mapping, movie_train_mapping #maximos\n",
    "\n",
    "        rmse_train_total.append(rmse_train)\n",
    "        rmse_test_total.append(rmse_test)\n",
    "\n",
    "    return [U_best, M_best, rmse_train_total, rmse_test_total, user_train_mapping_best, movie_train_mapping_best]"
   ]
  },
  {
   "cell_type": "code",
   "execution_count": 9,
   "metadata": {},
   "outputs": [],
   "source": [
    "U, M, rmse_train, rmse_test, user_train_mapping_best, movie_train_mapping_best = k_fold_matrix_factorization(ratings_table, learning_rate, num_of_iterations, reguralization_factor, num_of_factors)\n"
   ]
  }
 ],
 "metadata": {
  "kernelspec": {
   "display_name": "Python 3.10.8 64-bit",
   "language": "python",
   "name": "python3"
  },
  "language_info": {
   "codemirror_mode": {
    "name": "ipython",
    "version": 3
   },
   "file_extension": ".py",
   "mimetype": "text/x-python",
   "name": "python",
   "nbconvert_exporter": "python",
   "pygments_lexer": "ipython3",
   "version": "3.10.8"
  },
  "orig_nbformat": 4,
  "vscode": {
   "interpreter": {
    "hash": "67c387c2c5b8063b0f5207e4f2f5d1ecdb3788cfb68a74a0e938e4e5a4672a70"
   }
  }
 },
 "nbformat": 4,
 "nbformat_minor": 2
}
