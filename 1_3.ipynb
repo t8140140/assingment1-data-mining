{
 "cells": [
  {
   "cell_type": "code",
   "execution_count": 1,
   "metadata": {},
   "outputs": [],
   "source": [
    "import numpy as np\n",
    "from sklearn.model_selection import KFold\n",
    "import random    \n",
    "import pandas as pd\n",
    "from sklearn import linear_model\n",
    "from sklearn.metrics import mean_squared_error\n",
    "from sklearn.metrics import mean_absolute_error\n",
    "from math import sqrt\n",
    "\n",
    "learning_rate = 0.0005\n",
    "num_of_iterations = 75\n",
    "reguralization_factor = 0.05\n",
    "num_of_factors = 10"
   ]
  },
  {
   "cell_type": "code",
   "execution_count": 2,
   "metadata": {},
   "outputs": [],
   "source": [
    "ratings_table = pd.read_csv(filepath_or_buffer='./ml-1m/ratings.dat',\n",
    "                            sep='::', delimiter=None, header=0, names=['user_id', 'movie_id', 'rating', 'timestamp'] ,engine='python')\n",
    "\n",
    "# movies_table = pd.read_csv(filepath_or_buffer='./ml-1m/movies.dat',\n",
    "#                            sep='::', delimiter=None, header=0, engine='python')\n",
    "\n",
    "# users_table = pd.read_csv(filepath_or_buffer='./ml-1m/users.dat',\n",
    "#                           sep='::', delimiter=None, header=0, engine='python')"
   ]
  },
  {
   "cell_type": "code",
   "execution_count": 20,
   "metadata": {},
   "outputs": [
    {
     "data": {
      "text/plain": [
       "0.390315664805964"
      ]
     },
     "execution_count": 20,
     "metadata": {},
     "output_type": "execute_result"
    }
   ],
   "source": [
    "from cmath import isnan\n",
    "\n",
    "def create_matrices(ratings):\n",
    "    X = np.array(ratings_table.pivot(index='user_id',columns='movie_id', values='rating'))\n",
    "\n",
    "    U = np.random.uniform(-1, 1, (len(X), num_of_factors))\n",
    "    M = np.random.uniform(-1, 1, (num_of_factors, len(X[0])))"
   ]
  },
  {
   "cell_type": "code",
   "execution_count": 21,
   "metadata": {},
   "outputs": [],
   "source": [
    "def partial_der_reg(error, element):\n",
    "    deriv_reg = 2*error - reguralization_factor*element\n",
    "    return deriv_reg\n",
    "\n",
    "\n",
    "def calculate_predictions(U, M):\n",
    "    \n",
    "    for i, xi in enumerate(X):\n",
    "        for j, xj in enumerate(X[i]):\n",
    "        \n",
    "            if isnan(X[i,j]):\n",
    "                continue\n",
    "        \n",
    "            previous_error = 9999\n",
    "   \n",
    "            for _ in range(num_of_iterations):\n",
    "                \n",
    "                pred_xij = np.dot(U[i,:],M[:,j].T)\n",
    "                error_xij = X[i,j] - pred_xij\n",
    "                \n",
    "                error_xij = error_xij**2\n",
    "            \n",
    "                for k in range(num_of_factors):\n",
    "                    Uik = U[i,k] + learning_rate * (partial_der_reg(error_xij, M[k,j]))\n",
    "                    Mkj = M[k,j] + learning_rate * (partial_der_reg(error_xij, U[i,k]))\n",
    "                    \n",
    "                    U[i,k] = Uik\n",
    "                    M[k,j] = Mkj\n",
    "                if error_xij >= previous_error:\n",
    "                    break\n",
    "                \n",
    "                previous_error = error_xij\n",
    "    return U, M"
   ]
  },
  {
   "cell_type": "code",
   "execution_count": null,
   "metadata": {},
   "outputs": [],
   "source": [
    "pred_U, pred_M = calculate_predictions(U, M)"
   ]
  },
  {
   "cell_type": "code",
   "execution_count": null,
   "metadata": {},
   "outputs": [
    {
     "data": {
      "text/plain": [
       "array([[nan, nan, nan, ..., nan, nan, nan],\n",
       "       [nan, nan, nan, ..., nan, nan, nan],\n",
       "       [nan, nan, nan, ..., nan, nan, nan],\n",
       "       ...,\n",
       "       [nan, nan, nan, ..., nan, nan, nan],\n",
       "       [nan, nan, nan, ..., nan, nan, nan],\n",
       "       [nan, nan, nan, ..., nan, nan, nan]])"
      ]
     },
     "execution_count": 88,
     "metadata": {},
     "output_type": "execute_result"
    }
   ],
   "source": [
    "\n",
    "p = np.dot(U[0,:], M[:, 0])"
   ]
  },
  {
   "cell_type": "code",
   "execution_count": null,
   "metadata": {},
   "outputs": [],
   "source": [
    "\n",
    "def k_fold_matrix_factorization(input_path, learning_rate, iterations, regularization, num_factors):\n",
    "    kf = KFold(n_splits = 5, shuffle = True, random_state = 9)\n",
    "    maes = []\n",
    "    rmses = []\n",
    "    # for train_index, test_index in kf.split(df):\n"
   ]
  }
 ],
 "metadata": {
  "kernelspec": {
   "display_name": "Python 3.10.8 64-bit",
   "language": "python",
   "name": "python3"
  },
  "language_info": {
   "codemirror_mode": {
    "name": "ipython",
    "version": 3
   },
   "file_extension": ".py",
   "mimetype": "text/x-python",
   "name": "python",
   "nbconvert_exporter": "python",
   "pygments_lexer": "ipython3",
   "version": "3.10.8"
  },
  "orig_nbformat": 4,
  "vscode": {
   "interpreter": {
    "hash": "67c387c2c5b8063b0f5207e4f2f5d1ecdb3788cfb68a74a0e938e4e5a4672a70"
   }
  }
 },
 "nbformat": 4,
 "nbformat_minor": 2
}
