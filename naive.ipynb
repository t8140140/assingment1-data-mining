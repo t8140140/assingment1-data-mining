{
 "cells": [
  {
   "cell_type": "code",
   "execution_count": 3,
   "metadata": {},
   "outputs": [],
   "source": [
    "import numpy as np\n",
    "import pandas as pd\n",
    "\n",
    "import sklearn as sk\n",
    "\n",
    "from sklearn.linear_model import LinearRegression\n",
    "\n",
    "from sklearn.model_selection import KFold"
   ]
  },
  {
   "cell_type": "code",
   "execution_count": 6,
   "metadata": {},
   "outputs": [],
   "source": [
    "\n",
    "ratings_table = pd.read_csv(filepath_or_buffer='./ml-1m/ratings.dat',\n",
    "                            sep='::', delimiter=None, header=0, engine='python')\n",
    "\n",
    "# 1.\n",
    "mean_rating_global = ratings_table['Rating'].mean()\n",
    "# 2.\n",
    "mean_rating_per_movie = ratings_table.groupby('MovieID')['Rating'].mean()\n",
    "# .3\n",
    "mean_rating_per_user = ratings_table.groupby('UserID')['Rating'].mean()\n",
    "\n",
    "\n",
    "def generate_X_set(columns, *features):\n",
    "    matrix = np.vstack(features[:2]).T\n",
    "    X_set = pd.DataFrame(data=matrix, columns=columns)\n",
    "    return X_set\n",
    "    \n",
    "X = generate_X_set(['UserID', 'MovieID'],*[ratings_table['UserID'], ratings_table['MovieID']])\n",
    "\n",
    "X_per_movie = generate_X_set(['MovieID', 'UserID'],*[ratings_table['UserID'], ratings_table['MovieID'], mean_rating_per_movie])\n"
   ]
  },
  {
   "cell_type": "code",
   "execution_count": 7,
   "metadata": {},
   "outputs": [],
   "source": [
    "X_global = X.copy()\n",
    "\n",
    "X_global['global_average'] = mean_rating_global\n",
    "\n",
    "X_per_user = pd.merge(left=X, right=mean_rating_per_user, how='left', \n",
    "              left_on='UserID', right_index=True)\n",
    "\n",
    "X_per_movie = pd.merge(left=X, right=mean_rating_per_movie, how='left', \n",
    "              left_on='MovieID', right_index=True)\n",
    "\n",
    "X_per_user_and_movie = pd.merge(left=X_per_user, right=mean_rating_per_movie, how='left', \n",
    "              left_on='MovieID', right_index=True)\n",
    "\n",
    "y = ratings_table['Rating']"
   ]
  },
  {
   "cell_type": "code",
   "execution_count": 8,
   "metadata": {},
   "outputs": [],
   "source": [
    "from re import T\n",
    "import matplotlib.pyplot as plt\n",
    "from sklearn.metrics import mean_squared_error, r2_score, mean_absolute_error\n",
    "\n",
    "def k_fold_split_training(X, y, intercept=False): \n",
    "    \n",
    "    kf = KFold(n_splits=5, shuffle=True, random_state=32)\n",
    "    rmse = []\n",
    "    for train_index, test_index in kf.split(X):\n",
    "    \n",
    "        X_train, X_test = X.iloc[train_index], X.iloc[test_index]\n",
    "        y_train, y_test = y[train_index], y[test_index]\n",
    "        \n",
    "        linear_reg = LinearRegression(fit_intercept=intercept)\n",
    "\n",
    "        linear_reg.fit(X_train, y_train)\n",
    "        \n",
    "        y_predict = linear_reg.predict(X_test)\n",
    "\n",
    "        rmse.append(np.sqrt(mean_squared_error(y_test, y_predict)))\n",
    "        # The mean squared error\n",
    "        print(\"Mean squared error: %.3f\" % mean_squared_error(y_test, y_predict))\n",
    "        # The root mean squared error\n",
    "        print(\"Root mean squared error: %.3f\" % np.sqrt(mean_squared_error(y_test, y_predict)))\n",
    "        # The mean absolute error\n",
    "        print(\"Mean absolute error: %.3f\" % mean_absolute_error(y_test, y_predict))\n",
    "        # The coefficient of determination: 1 is perfect prediction\n",
    "        print(\"Coefficient of determination: %.3f\" % r2_score(y_test, y_predict))\n",
    "        \n",
    "        \n",
    "    return rmse\n"
   ]
  },
  {
   "cell_type": "code",
   "execution_count": null,
   "metadata": {},
   "outputs": [],
   "source": [
    "total_rmses = []\n",
    "\n",
    "total_rmses.append(k_fold_split_training(X_global, y))\n",
    "total_rmses.append(k_fold_split_training(X_per_user, y))\n",
    "total_rmses.append(k_fold_split_training(X_per_movie, y))\n",
    "total_rmses.append(k_fold_split_training(X_per_user_and_movie, y))\n",
    "total_rmses.append(k_fold_split_training(X_per_user_and_movie, y, True))\n",
    "\n",
    "total_rmses = np.array(total_rmses)"
   ]
  },
  {
   "cell_type": "code",
   "execution_count": 12,
   "metadata": {},
   "outputs": [
    {
     "data": {
      "image/png": "[encoded data removed]",
      "text/plain": [
       "<Figure size 640x480 with 1 Axes>"
      ]
     },
     "metadata": {},
     "output_type": "display_data"
    }
   ],
   "source": [
    "plt.boxplot(total_rmses.T, labels=['global', 'per_user', 'per_movie', 'per_user_and_movie', 'per_user_and_movie_intercept'])\n",
    "plt.show()"
   ]
  }
 ],
 "metadata": {
  "kernelspec": {
   "display_name": "Python 3.10.8 64-bit",
   "language": "python",
   "name": "python3"
  },
  "language_info": {
   "codemirror_mode": {
    "name": "ipython",
    "version": 3
   },
   "file_extension": ".py",
   "mimetype": "text/x-python",
   "name": "python",
   "nbconvert_exporter": "python",
   "pygments_lexer": "ipython3",
   "version": "3.10.8"
  },
  "orig_nbformat": 4,
  "vscode": {
   "interpreter": {
    "hash": "67c387c2c5b8063b0f5207e4f2f5d1ecdb3788cfb68a74a0e938e4e5a4672a70"
   }
  }
 },
 "nbformat": 4,
 "nbformat_minor": 2
}
