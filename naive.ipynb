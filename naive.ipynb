{
 "cells": [
  {
   "cell_type": "code",
   "execution_count": 47,
   "metadata": {},
   "outputs": [],
   "source": [
    "import numpy as np\n",
    "import pandas as pd\n",
    "\n",
    "import sklearn as sk\n",
    "\n",
    "from sklearn.linear_model import LinearRegression\n",
    "\n",
    "from sklearn.model_selection import KFold"
   ]
  },
  {
   "cell_type": "code",
   "execution_count": 83,
   "metadata": {},
   "outputs": [],
   "source": [
    "ratings_table = pd.read_csv(filepath_or_buffer='../ml-1m/ratings.dat',\n",
    "                            sep='::', delimiter=None, header=0, engine='python')\n",
    "\n",
    "movies_table = pd.read_csv(filepath_or_buffer='../ml-1m/movies.dat',\n",
    "                           sep='::', delimiter=None, header=0, engine='python')\n",
    "\n",
    "users_table = pd.read_csv(filepath_or_buffer='../ml-1m/users.dat',\n",
    "                          sep='::', delimiter=None, header=0, engine='python')\n",
    "\n",
    "\n",
    "# 1.\n",
    "mean_rating_ratings = ratings_table['Rating'].mean()\n",
    "\n",
    "\n",
    "\n",
    "# 2.\n",
    "mean_rating_per_movie = ratings_table.groupby('MovieID')['Rating'].mean()\n",
    "\n",
    "\n",
    "# .3\n",
    "mean_rating_per_user = ratings_table.groupby('UserID')['Rating'].mean()\n",
    "\n",
    "\n",
    "def create_n_dimensional_array(*features):\n",
    "    X_set = np.vstack((features)).T\n",
    "\n",
    "    return X_set\n",
    "\n",
    "X = create_n_dimensional_array(*[ratings_table['UserID'], ratings_table['MovieID']])\n",
    "\n",
    "y = ratings_table['Rating']\n"
   ]
  },
  {
   "cell_type": "code",
   "execution_count": 80,
   "metadata": {},
   "outputs": [
    {
     "name": "stdout",
     "output_type": "stream",
     "text": [
      "Coefficients: \n",
      " [ 7.06112081e-06 -6.56539919e-05]\n",
      "Mean squared error: 1.24\n",
      "Mean absolute error: 0.93\n",
      "Coefficient of determination: 0.00\n",
      "<class 'numpy.ndarray'>\n",
      "Coefficients: \n",
      " [ 7.36233268e-06 -6.40244483e-05]\n",
      "Mean squared error: 1.24\n",
      "Mean absolute error: 0.93\n",
      "Coefficient of determination: 0.00\n",
      "<class 'numpy.ndarray'>\n",
      "Coefficients: \n",
      " [ 7.38117247e-06 -6.51641263e-05]\n",
      "Mean squared error: 1.24\n",
      "Mean absolute error: 0.93\n",
      "Coefficient of determination: 0.00\n",
      "<class 'numpy.ndarray'>\n",
      "Coefficients: \n",
      " [ 7.37183459e-06 -6.52856287e-05]\n",
      "Mean squared error: 1.24\n",
      "Mean absolute error: 0.93\n",
      "Coefficient of determination: 0.00\n",
      "<class 'numpy.ndarray'>\n",
      "Coefficients: \n",
      " [ 6.92163404e-06 -6.52245315e-05]\n",
      "Mean squared error: 1.24\n",
      "Mean absolute error: 0.93\n",
      "Coefficient of determination: 0.00\n",
      "<class 'numpy.ndarray'>\n"
     ]
    }
   ],
   "source": [
    "import matplotlib.pyplot as plt\n",
    "from sklearn.metrics import mean_squared_error, r2_score, mean_absolute_error\n",
    "\n",
    "kf = KFold(n_splits=5, shuffle=True, random_state=32)\n",
    "\n",
    "\n",
    "# loop X_train[i] , i=[1, 5]\n",
    "for train_index, test_index in kf.split(X):\n",
    "    \n",
    "    # split the data into training & test -> (training data to train the model i.e create a linear line that fits the data)\n",
    "    X_train, X_test = X[train_index], X[test_index]\n",
    "    y_train, y_test = y[train_index], y[test_index]\n",
    "    \n",
    "    # initialize the linear regression model with gamma or other hyperparameters\n",
    "    linear_reg = LinearRegression(fit_intercept=True)\n",
    "\n",
    "    # train the model with the training data\n",
    "    linear_reg.fit(X_train, y_train)\n",
    "    \n",
    "    \n",
    "    # predict the y values using the model with test data as inputs\n",
    "    y_predict = linear_reg.predict(X_test)\n",
    "    \n",
    "    # The coefficients\n",
    "    print(\"Coefficients: \\n\", linear_reg.coef_)\n",
    "    # The mean squared error\n",
    "    print(\"Mean squared error: %.2f\" % mean_squared_error(y_test, y_predict))\n",
    "    # The mean absolute error\n",
    "    print(\"Mean absolute error: %.2f\" % mean_absolute_error(y_test, y_predict))\n",
    "    # The coefficient of determination: 1 is perfect prediction\n",
    "    print(\"Coefficient of determination: %.2f\" % r2_score(y_test, y_predict))\n",
    "    \n",
    "    y_test_ratings = np.array(y_test)"
   ]
  }
 ],
 "metadata": {
  "kernelspec": {
   "display_name": "Python 3.10.4 64-bit",
   "language": "python",
   "name": "python3"
  },
  "language_info": {
   "codemirror_mode": {
    "name": "ipython",
    "version": 3
   },
   "file_extension": ".py",
   "mimetype": "text/x-python",
   "name": "python",
   "nbconvert_exporter": "python",
   "pygments_lexer": "ipython3",
   "version": "3.10.4"
  },
  "orig_nbformat": 4,
  "vscode": {
   "interpreter": {
    "hash": "916dbcbb3f70747c44a77c7bcd40155683ae19c65e1c03b4aa3499c5328201f1"
   }
  }
 },
 "nbformat": 4,
 "nbformat_minor": 2
}
